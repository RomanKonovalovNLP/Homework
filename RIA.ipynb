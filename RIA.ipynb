{
 "cells": [
  {
   "cell_type": "markdown",
   "id": "fe5dadfa-cb45-4b8f-a722-6f79413b6147",
   "metadata": {},
   "source": [
    "## pip"
   ]
  },
  {
   "cell_type": "code",
   "execution_count": 15,
   "id": "2965f6fb-b718-4003-ab14-53bbcff4fb51",
   "metadata": {
    "scrolled": true
   },
   "outputs": [
    {
     "name": "stdout",
     "output_type": "stream",
     "text": [
      "Requirement already satisfied: selenium in /home/marson/anaconda3/lib/python3.12/site-packages (4.26.1)\n",
      "Requirement already satisfied: urllib3<3,>=1.26 in /home/marson/anaconda3/lib/python3.12/site-packages (from urllib3[socks]<3,>=1.26->selenium) (2.2.2)\n",
      "Requirement already satisfied: trio~=0.17 in /home/marson/anaconda3/lib/python3.12/site-packages (from selenium) (0.27.0)\n",
      "Requirement already satisfied: trio-websocket~=0.9 in /home/marson/anaconda3/lib/python3.12/site-packages (from selenium) (0.11.1)\n",
      "Requirement already satisfied: certifi>=2021.10.8 in /home/marson/anaconda3/lib/python3.12/site-packages (from selenium) (2024.6.2)\n",
      "Requirement already satisfied: typing_extensions~=4.9 in /home/marson/anaconda3/lib/python3.12/site-packages (from selenium) (4.11.0)\n",
      "Requirement already satisfied: websocket-client~=1.8 in /home/marson/anaconda3/lib/python3.12/site-packages (from selenium) (1.8.0)\n",
      "Requirement already satisfied: attrs>=23.2.0 in /home/marson/anaconda3/lib/python3.12/site-packages (from trio~=0.17->selenium) (24.2.0)\n",
      "Requirement already satisfied: sortedcontainers in /home/marson/anaconda3/lib/python3.12/site-packages (from trio~=0.17->selenium) (2.4.0)\n",
      "Requirement already satisfied: idna in /home/marson/anaconda3/lib/python3.12/site-packages (from trio~=0.17->selenium) (3.7)\n",
      "Requirement already satisfied: outcome in /home/marson/anaconda3/lib/python3.12/site-packages (from trio~=0.17->selenium) (1.3.0.post0)\n",
      "Requirement already satisfied: sniffio>=1.3.0 in /home/marson/anaconda3/lib/python3.12/site-packages (from trio~=0.17->selenium) (1.3.0)\n",
      "Requirement already satisfied: wsproto>=0.14 in /home/marson/anaconda3/lib/python3.12/site-packages (from trio-websocket~=0.9->selenium) (1.2.0)\n",
      "Requirement already satisfied: pysocks!=1.5.7,<2.0,>=1.5.6 in /home/marson/anaconda3/lib/python3.12/site-packages (from urllib3[socks]<3,>=1.26->selenium) (1.7.1)\n",
      "Requirement already satisfied: h11<1,>=0.9.0 in /home/marson/anaconda3/lib/python3.12/site-packages (from wsproto>=0.14->trio-websocket~=0.9->selenium) (0.14.0)\n"
     ]
    }
   ],
   "source": [
    "!pip install selenium"
   ]
  },
  {
   "cell_type": "code",
   "execution_count": 2,
   "id": "6ddba00c-e94e-4187-bd30-e44d8b4bf7b8",
   "metadata": {},
   "outputs": [
    {
     "name": "stdout",
     "output_type": "stream",
     "text": [
      "Requirement already satisfied: pymystem3 in /home/marson/anaconda3/lib/python3.12/site-packages (0.2.0)\n",
      "Requirement already satisfied: requests in /home/marson/anaconda3/lib/python3.12/site-packages (from pymystem3) (2.32.2)\n",
      "Requirement already satisfied: charset-normalizer<4,>=2 in /home/marson/anaconda3/lib/python3.12/site-packages (from requests->pymystem3) (2.0.4)\n",
      "Requirement already satisfied: idna<4,>=2.5 in /home/marson/anaconda3/lib/python3.12/site-packages (from requests->pymystem3) (3.7)\n",
      "Requirement already satisfied: urllib3<3,>=1.21.1 in /home/marson/anaconda3/lib/python3.12/site-packages (from requests->pymystem3) (2.2.2)\n",
      "Requirement already satisfied: certifi>=2017.4.17 in /home/marson/anaconda3/lib/python3.12/site-packages (from requests->pymystem3) (2024.6.2)\n"
     ]
    }
   ],
   "source": [
    "!pip install pymystem3"
   ]
  },
  {
   "cell_type": "code",
   "execution_count": 3,
   "id": "43af7da0-1d9f-40a7-8d5f-b0d0c8aa8bb7",
   "metadata": {},
   "outputs": [
    {
     "name": "stdout",
     "output_type": "stream",
     "text": [
      "Requirement already satisfied: wordcloud in /home/marson/anaconda3/lib/python3.12/site-packages (1.9.4)\n",
      "Requirement already satisfied: numpy>=1.6.1 in /home/marson/anaconda3/lib/python3.12/site-packages (from wordcloud) (1.26.4)\n",
      "Requirement already satisfied: pillow in /home/marson/anaconda3/lib/python3.12/site-packages (from wordcloud) (10.3.0)\n",
      "Requirement already satisfied: matplotlib in /home/marson/anaconda3/lib/python3.12/site-packages (from wordcloud) (3.8.4)\n",
      "Requirement already satisfied: contourpy>=1.0.1 in /home/marson/anaconda3/lib/python3.12/site-packages (from matplotlib->wordcloud) (1.2.0)\n",
      "Requirement already satisfied: cycler>=0.10 in /home/marson/anaconda3/lib/python3.12/site-packages (from matplotlib->wordcloud) (0.11.0)\n",
      "Requirement already satisfied: fonttools>=4.22.0 in /home/marson/anaconda3/lib/python3.12/site-packages (from matplotlib->wordcloud) (4.51.0)\n",
      "Requirement already satisfied: kiwisolver>=1.3.1 in /home/marson/anaconda3/lib/python3.12/site-packages (from matplotlib->wordcloud) (1.4.4)\n",
      "Requirement already satisfied: packaging>=20.0 in /home/marson/anaconda3/lib/python3.12/site-packages (from matplotlib->wordcloud) (23.2)\n",
      "Requirement already satisfied: pyparsing>=2.3.1 in /home/marson/anaconda3/lib/python3.12/site-packages (from matplotlib->wordcloud) (3.0.9)\n",
      "Requirement already satisfied: python-dateutil>=2.7 in /home/marson/anaconda3/lib/python3.12/site-packages (from matplotlib->wordcloud) (2.9.0.post0)\n",
      "Requirement already satisfied: six>=1.5 in /home/marson/anaconda3/lib/python3.12/site-packages (from python-dateutil>=2.7->matplotlib->wordcloud) (1.16.0)\n"
     ]
    }
   ],
   "source": [
    "!pip install wordcloud"
   ]
  },
  {
   "cell_type": "code",
   "execution_count": 4,
   "id": "4abe46cb-11a9-42f0-8d13-186afa279bc7",
   "metadata": {},
   "outputs": [
    {
     "name": "stdout",
     "output_type": "stream",
     "text": [
      "Requirement already satisfied: scikit-learn in /home/marson/anaconda3/lib/python3.12/site-packages (1.4.2)\n",
      "Requirement already satisfied: numpy>=1.19.5 in /home/marson/anaconda3/lib/python3.12/site-packages (from scikit-learn) (1.26.4)\n",
      "Requirement already satisfied: scipy>=1.6.0 in /home/marson/anaconda3/lib/python3.12/site-packages (from scikit-learn) (1.13.1)\n",
      "Requirement already satisfied: joblib>=1.2.0 in /home/marson/anaconda3/lib/python3.12/site-packages (from scikit-learn) (1.4.2)\n",
      "Requirement already satisfied: threadpoolctl>=2.0.0 in /home/marson/anaconda3/lib/python3.12/site-packages (from scikit-learn) (2.2.0)\n"
     ]
    }
   ],
   "source": [
    "!pip install scikit-learn"
   ]
  },
  {
   "cell_type": "markdown",
   "id": "ae2abfd2-8de6-49be-80d2-9b1ae925e830",
   "metadata": {},
   "source": [
    "## Импортируем библиотеки"
   ]
  },
  {
   "cell_type": "code",
   "execution_count": 5,
   "id": "98f6d967-5e26-4e33-ab23-46f0d63294eb",
   "metadata": {
    "scrolled": true
   },
   "outputs": [],
   "source": [
    "from selenium import webdriver\n",
    "from selenium.webdriver.common.by import By\n",
    "from selenium.webdriver.support.ui import WebDriverWait\n",
    "from selenium.webdriver.support import expected_conditions as EC\n",
    "from bs4 import BeautifulSoup\n",
    "from pymystem3 import Mystem\n",
    "from nltk.corpus import stopwords\n",
    "from nltk.tokenize import RegexpTokenizer\n",
    "from nltk.probability import FreqDist\n",
    "from sklearn.feature_extraction.text import TfidfVectorizer\n",
    "from wordcloud import WordCloud\n",
    "import time\n",
    "import requests\n",
    "import pandas as pd\n",
    "import nltk\n",
    "import re\n",
    "import matplotlib.pyplot as plt"
   ]
  },
  {
   "cell_type": "markdown",
   "id": "a7984ebc-1949-494f-a932-4e7b6c7c6658",
   "metadata": {},
   "source": [
    "## Парсер"
   ]
  },
  {
   "cell_type": "code",
   "execution_count": 6,
   "id": "4b163270-9ff6-42bb-9c70-f39ead3e6457",
   "metadata": {},
   "outputs": [],
   "source": [
    "# Опции для Chrome\n",
    "options = webdriver.ChromeOptions()\n",
    "options.add_argument(\"--ignore-certificate-errors\")\n",
    "options.add_argument(\"--allow-insecure-localhost\")\n",
    "driver = webdriver.Chrome(options=options)"
   ]
  },
  {
   "cell_type": "code",
   "execution_count": 7,
   "id": "4e14dc11-ff14-4e01-8dca-c724b5bac57d",
   "metadata": {
    "scrolled": true
   },
   "outputs": [
    {
     "name": "stdout",
     "output_type": "stream",
     "text": [
      "Ошибка при нажатии кнопки: Message: stale element reference: stale element not found in the current frame\n",
      "  (Session info: chrome=131.0.6778.85); For documentation on this error, please visit: https://www.selenium.dev/documentation/webdriver/troubleshooting/errors#stale-element-reference-exception\n",
      "Stacktrace:\n",
      "#0 0x5b86f3ba234a <unknown>\n",
      "#1 0x5b86f36b86e0 <unknown>\n",
      "#2 0x5b86f36be4a3 <unknown>\n",
      "#3 0x5b86f36c0968 <unknown>\n",
      "#4 0x5b86f36c09f3 <unknown>\n",
      "#5 0x5b86f370941e <unknown>\n",
      "#6 0x5b86f37086df <unknown>\n",
      "#7 0x5b86f36fc29a <unknown>\n",
      "#8 0x5b86f372b462 <unknown>\n",
      "#9 0x5b86f36fba18 <unknown>\n",
      "#10 0x5b86f372b62e <unknown>\n",
      "#11 0x5b86f3749ed7 <unknown>\n",
      "#12 0x5b86f372b203 <unknown>\n",
      "#13 0x5b86f36f9cc0 <unknown>\n",
      "#14 0x5b86f36fac9e <unknown>\n",
      "#15 0x5b86f3b6fd3b <unknown>\n",
      "#16 0x5b86f3b73cc2 <unknown>\n",
      "#17 0x5b86f3b5cb6c <unknown>\n",
      "#18 0x5b86f3b74837 <unknown>\n",
      "#19 0x5b86f3b4210f <unknown>\n",
      "#20 0x5b86f3b915a8 <unknown>\n",
      "#21 0x5b86f3b91770 <unknown>\n",
      "#22 0x5b86f3ba11c6 <unknown>\n",
      "#23 0x7a675089ca94 <unknown>\n",
      "#24 0x7a6750929c3c <unknown>\n",
      "\n",
      "Собрана ссылка: /article/20241203/brucellez-viyavlen-u-tomskih-ovec-vpervie-s-2021g-vveden-karantin/\n"
     ]
    }
   ],
   "source": [
    "#Основа парсера\n",
    "try:\n",
    "    driver.get(\"https://www.riatomsk.ru/novosti\")# Переход на сайт\n",
    "\n",
    "    # Прокликивание кнопки \"Далее\" n-раз\n",
    "    for _ in range(450):\n",
    "        try:\n",
    "            button = WebDriverWait(driver, 10).until(\n",
    "                EC.element_to_be_clickable((By.CLASS_NAME, \"nextLink\"))\n",
    "            )\n",
    "            button.click()\n",
    "            time.sleep(9)  # время N ожидания\n",
    "        except Exception as e:\n",
    "            print(f\"Ошибка при нажатии кнопки: {e}\")\n",
    "            break\n",
    "\n",
    "    # Получение ссылок на новости\n",
    "    time.sleep(9)  # N пауза для полной загрузки страницы\n",
    "    soup = BeautifulSoup(driver.page_source, \"html.parser\")\n",
    "    news_links = []\n",
    "\n",
    "    # Поиск всех новостей на странице\n",
    "    articles = soup.find_all(\"a\", class_=\"rubNewItem\")\n",
    "\n",
    "    if articles:\n",
    "        for article in articles:\n",
    "            link = article.get(\"href\")  # Получаем атрибут 'href' напрямую\n",
    "            if \"2021\" in link: # Фильтрация по N году\n",
    "                news_links.append(link)\n",
    "                print(f\"Собрана ссылка: {link}\")\n",
    "    else:\n",
    "        print(\"Не удалось найти статьи на странице.\")\n",
    "\n",
    "except Exception as e:\n",
    "    print(f\"Произошла ошибка: {e}\")\n",
    "\n",
    "finally:\n",
    "    driver.quit()  # Закрытие браузера"
   ]
  },
  {
   "cell_type": "code",
   "execution_count": 8,
   "id": "ca279779-afd5-4bcd-8e3c-2e4fc39280c4",
   "metadata": {},
   "outputs": [
    {
     "name": "stdout",
     "output_type": "stream",
     "text": [
      "Ссылки на новости за 2021 год успешно записаны.\n"
     ]
    }
   ],
   "source": [
    "# запись ссылок в файл\n",
    "if news_links:\n",
    "    try:\n",
    "        with open(\"news_links_2021.txt\", \"w\", encoding=\"utf-8\") as file:\n",
    "            for link in news_links:\n",
    "                file.write(link + \"\\n\")\n",
    "        print(\"Ссылки на новости за 2021 год успешно записаны.\")\n",
    "    except Exception as e:\n",
    "        print(f\"Ошибка при записи в файл: {e}\")\n",
    "else:\n",
    "    print(\"Ссылки не были найдены для записи.\")"
   ]
  },
  {
   "cell_type": "code",
   "execution_count": 9,
   "id": "8f0c1bf2-5946-4c33-a4c1-c0bb341eec57",
   "metadata": {},
   "outputs": [],
   "source": [
    "# чтение ссылок из файла\n",
    "with open(\"news_links_2021.txt\", \"r\", encoding=\"utf-8\") as file:\n",
    "    links = file.readlines()"
   ]
  },
  {
   "cell_type": "code",
   "execution_count": 10,
   "id": "66112cca-9d9a-4f26-8102-75f6f3ff769d",
   "metadata": {},
   "outputs": [
    {
     "data": {
      "text/plain": [
       "list"
      ]
     },
     "execution_count": 10,
     "metadata": {},
     "output_type": "execute_result"
    }
   ],
   "source": [
    "type(links)"
   ]
  },
  {
   "cell_type": "markdown",
   "id": "5a193d50-50d9-431f-9aa4-6ad7ac044ea3",
   "metadata": {},
   "source": [
    "# Парсинг данных из статей"
   ]
  },
  {
   "cell_type": "code",
   "execution_count": 11,
   "id": "b71c6817-7ec2-474b-b807-d93c2430b57b",
   "metadata": {},
   "outputs": [
    {
     "name": "stdout",
     "output_type": "stream",
     "text": [
      "Ошибка при обработке ссылки /article/20241203/brucellez-viyavlen-u-tomskih-ovec-vpervie-s-2021g-vveden-karantin/: Invalid URL '/article/20241203/brucellez-viyavlen-u-tomskih-ovec-vpervie-s-2021g-vveden-karantin/': No scheme supplied. Perhaps you meant https:///article/20241203/brucellez-viyavlen-u-tomskih-ovec-vpervie-s-2021g-vveden-karantin/?\n"
     ]
    }
   ],
   "source": [
    "# список данных\n",
    "info = []  \n",
    "\n",
    "for link in links:\n",
    "    link = link.strip()\n",
    "    try:\n",
    "        response = requests.get(link)\n",
    "        if response.status_code == 200:\n",
    "            soup1 = BeautifulSoup(response.text, \"html.parser\")\n",
    "\n",
    "            # заголовок\n",
    "            title_h1 = soup1.find(\"div\", class_=\"statInfoName\")\n",
    "            title = title_h1.text.strip() if title_h1 else None\n",
    "\n",
    "            # контент\n",
    "            content_div = soup1.find(\"div\", class_=\"statAbout\")\n",
    "            text = content_div.get_text(separator=\" \").strip() if content_div else None\n",
    "\n",
    "            # дата и время\n",
    "            date_div = soup1.find(\"div\", style=\"font-size: 16px; margin-top: 10px;\")\n",
    "            if date_div:\n",
    "                date_text = date_div.get_text(separator=\" \").strip()\n",
    "                time, date = date_text[:5], date_text[5:40]\n",
    "            else:\n",
    "                time, date = None, None\n",
    "\n",
    "            # добавить в список\n",
    "            info.append({\n",
    "                \"url\": link,\n",
    "                \"title\": title,\n",
    "                \"text\": text,\n",
    "                \"time\": time,\n",
    "                \"date\": date\n",
    "            })\n",
    "            print(link, title, text, time, date, sep=\"\\n\")\n",
    "\n",
    "    except Exception as e:\n",
    "        print(f\"Ошибка при обработке ссылки {link}: {e}\")  "
   ]
  },
  {
   "cell_type": "markdown",
   "id": "ffc61e8d-e994-4bd2-beef-2801f2543b8e",
   "metadata": {},
   "source": [
    "# проверка содержимого"
   ]
  },
  {
   "cell_type": "code",
   "execution_count": 12,
   "id": "1a8f24f6-5ec9-4530-b05a-8496f3eb1766",
   "metadata": {},
   "outputs": [
    {
     "data": {
      "text/plain": [
       "[]"
      ]
     },
     "execution_count": 12,
     "metadata": {},
     "output_type": "execute_result"
    }
   ],
   "source": [
    "info"
   ]
  },
  {
   "cell_type": "code",
   "execution_count": 13,
   "id": "ba880ebf-2876-43f1-ba87-0a7208fb04c2",
   "metadata": {},
   "outputs": [],
   "source": [
    "df = pd.DataFrame(info)"
   ]
  },
  {
   "cell_type": "code",
   "execution_count": 14,
   "id": "e1edfc40-f848-4c5d-a1be-32878a8de8d8",
   "metadata": {},
   "outputs": [
    {
     "ename": "KeyError",
     "evalue": "'text'",
     "output_type": "error",
     "traceback": [
      "\u001b[0;31m---------------------------------------------------------------------------\u001b[0m",
      "\u001b[0;31mKeyError\u001b[0m                                  Traceback (most recent call last)",
      "Cell \u001b[0;32mIn[14], line 1\u001b[0m\n\u001b[0;32m----> 1\u001b[0m \u001b[38;5;28mprint\u001b[39m(\u001b[38;5;28mstr\u001b[39m(df[\u001b[38;5;124m'\u001b[39m\u001b[38;5;124mtext\u001b[39m\u001b[38;5;124m'\u001b[39m][\u001b[38;5;241m1\u001b[39m]))\n",
      "File \u001b[0;32m~/anaconda3/lib/python3.12/site-packages/pandas/core/frame.py:4102\u001b[0m, in \u001b[0;36mDataFrame.__getitem__\u001b[0;34m(self, key)\u001b[0m\n\u001b[1;32m   4100\u001b[0m \u001b[38;5;28;01mif\u001b[39;00m \u001b[38;5;28mself\u001b[39m\u001b[38;5;241m.\u001b[39mcolumns\u001b[38;5;241m.\u001b[39mnlevels \u001b[38;5;241m>\u001b[39m \u001b[38;5;241m1\u001b[39m:\n\u001b[1;32m   4101\u001b[0m     \u001b[38;5;28;01mreturn\u001b[39;00m \u001b[38;5;28mself\u001b[39m\u001b[38;5;241m.\u001b[39m_getitem_multilevel(key)\n\u001b[0;32m-> 4102\u001b[0m indexer \u001b[38;5;241m=\u001b[39m \u001b[38;5;28mself\u001b[39m\u001b[38;5;241m.\u001b[39mcolumns\u001b[38;5;241m.\u001b[39mget_loc(key)\n\u001b[1;32m   4103\u001b[0m \u001b[38;5;28;01mif\u001b[39;00m is_integer(indexer):\n\u001b[1;32m   4104\u001b[0m     indexer \u001b[38;5;241m=\u001b[39m [indexer]\n",
      "File \u001b[0;32m~/anaconda3/lib/python3.12/site-packages/pandas/core/indexes/range.py:417\u001b[0m, in \u001b[0;36mRangeIndex.get_loc\u001b[0;34m(self, key)\u001b[0m\n\u001b[1;32m    415\u001b[0m         \u001b[38;5;28;01mraise\u001b[39;00m \u001b[38;5;167;01mKeyError\u001b[39;00m(key) \u001b[38;5;28;01mfrom\u001b[39;00m \u001b[38;5;21;01merr\u001b[39;00m\n\u001b[1;32m    416\u001b[0m \u001b[38;5;28;01mif\u001b[39;00m \u001b[38;5;28misinstance\u001b[39m(key, Hashable):\n\u001b[0;32m--> 417\u001b[0m     \u001b[38;5;28;01mraise\u001b[39;00m \u001b[38;5;167;01mKeyError\u001b[39;00m(key)\n\u001b[1;32m    418\u001b[0m \u001b[38;5;28mself\u001b[39m\u001b[38;5;241m.\u001b[39m_check_indexing_error(key)\n\u001b[1;32m    419\u001b[0m \u001b[38;5;28;01mraise\u001b[39;00m \u001b[38;5;167;01mKeyError\u001b[39;00m(key)\n",
      "\u001b[0;31mKeyError\u001b[0m: 'text'"
     ]
    }
   ],
   "source": [
    "print(str(df['text'][1]))"
   ]
  },
  {
   "cell_type": "code",
   "execution_count": null,
   "id": "51dd52bf-f21d-4739-b8b9-65e5b41b9acf",
   "metadata": {},
   "outputs": [],
   "source": [
    "df.to_csv(r'RIA_articles_2021.csv', index= False )"
   ]
  },
  {
   "cell_type": "markdown",
   "id": "ee9600ef-30de-4a46-82f6-8150853f1f78",
   "metadata": {},
   "source": [
    "## Preprocessing"
   ]
  },
  {
   "cell_type": "code",
   "execution_count": null,
   "id": "d8b2f973-2ed3-4e5c-a6ac-23c57dfe8bc7",
   "metadata": {},
   "outputs": [],
   "source": [
    "# данные\n",
    "df = pd.read_csv(r\"RIA_articles_2021.csv\", encoding='UTF-8')\n",
    "df['prep'] = df['text']  "
   ]
  },
  {
   "cell_type": "code",
   "execution_count": null,
   "id": "ee58db48-6b36-4d68-93cf-c758062dfbb6",
   "metadata": {},
   "outputs": [],
   "source": [
    "# загрузка стоп-слов\n",
    "nltk.download('stopwords')\n",
    "from nltk.corpus import stopwords\n",
    "STOPWORDS = set(stopwords.words('russian'))"
   ]
  },
  {
   "cell_type": "code",
   "execution_count": null,
   "id": "1028fa62-1cbe-4002-9fff-5509480cdca9",
   "metadata": {},
   "outputs": [],
   "source": [
    "# удаление Стоп-слов\n",
    "def remove_stopwords(text):\n",
    "    # Удаление Ничего  \n",
    "    if not isinstance(text, str):\n",
    "        return \"\"\n",
    "    # Удаление стоп-слов\n",
    "    return \" \".join([word for word in text.split() if word not in STOPWORDS])"
   ]
  },
  {
   "cell_type": "code",
   "execution_count": null,
   "id": "76818c11-a9fc-404b-89a3-f47a387f8b33",
   "metadata": {},
   "outputs": [],
   "source": [
    "# обработка\n",
    "df['prep'] = (\n",
    "    df['prep']\n",
    "    .str.lower()  # Регистр ниж.\n",
    "    .apply(lambda x: re.sub(r'[^\\w\\s]', '', str(x)))  # пунктуация\n",
    "    .apply(remove_stopwords)  # Удаление стоп-слов\n",
    ")"
   ]
  },
  {
   "cell_type": "code",
   "execution_count": null,
   "id": "918163b5-f9ca-49e2-b430-e464d03c39b6",
   "metadata": {},
   "outputs": [],
   "source": [
    "# сохранение Preprocessing\n",
    "df.to_csv(\"RIA_articles_prep_2021.csv\", index=False) # если меняете год в парсере, не забудьте менять годы в CSV файлах!\n",
    "print(\"успешно сохранён.\")"
   ]
  },
  {
   "cell_type": "markdown",
   "id": "62691689-6169-4789-a4e4-a7e7be857394",
   "metadata": {},
   "source": [
    "## Mystem"
   ]
  },
  {
   "cell_type": "code",
   "execution_count": null,
   "id": "a16bae56-d122-4dda-a657-4ffb89a8ba1c",
   "metadata": {},
   "outputs": [],
   "source": [
    "# данные\n",
    "df = pd.read_csv(\"RIA_articles_prep_2021.csv\", encoding='UTF-8') # если меняете год в парсере, не забудьте менять годы в CSV файлах!"
   ]
  },
  {
   "cell_type": "code",
   "execution_count": null,
   "id": "9f424be4-981d-4355-a280-86d79719ad00",
   "metadata": {},
   "outputs": [],
   "source": [
    "# запуск Mystem\n",
    "m = Mystem()"
   ]
  },
  {
   "cell_type": "markdown",
   "id": "dec91d15-880b-4049-9b33-0b97a38a5b83",
   "metadata": {},
   "source": [
    "Заметки.\n",
    "Если у вас на этом тапе ошибка, то скачайте mystem и перенесите его в /local/bin. \n",
    "Команды: \n",
    "mkdir -p ~/.local/bin\n",
    "mv mystem ~/.local/bin/\n",
    "chmod +x ~/.local/bin/mystem"
   ]
  },
  {
   "cell_type": "code",
   "execution_count": null,
   "id": "4a3feaf0-75d8-42ff-a2a3-da59276351df",
   "metadata": {},
   "outputs": [],
   "source": [
    "print(df.columns)"
   ]
  },
  {
   "cell_type": "code",
   "execution_count": null,
   "id": "ee1a7bf2-df59-4b4a-94e0-b3349dff9ef0",
   "metadata": {},
   "outputs": [],
   "source": [
    "def lemmatize_text(text):\n",
    "    if pd.isna(text):  # Проверка на NaN\n",
    "        return \"\"\n",
    "    return ''.join(m.lemmatize(text))\n",
    "\n",
    "# лемматизация\n",
    "df['lemmas'] = df['prep'].apply(lemmatize_text)\n",
    "\n",
    "# стоп-слова из библиотеки\n",
    "nltk.download('stopwords')\n",
    "STOPWORDS = set(stopwords.words('russian'))"
   ]
  },
  {
   "cell_type": "code",
   "execution_count": null,
   "id": "d161b9e5-03d8-475d-93f6-712915f8e99b",
   "metadata": {},
   "outputs": [],
   "source": [
    "# список стоп слов от Федора\n",
    "word_list = {\"томск\", \"томский\", \"томич\", \"томичи\", \"томичка\", \"голубев\", \"масляева\", \"соколов\", \"мазуров\", \"мазур\",\n",
    "             \"прошкина\", \"планкина\", \"матвиевский\", \"риа\", \"агентство\", \"миллион\", \"год\", \"сообщаться\", \"ранее\",\n",
    "             \"сообщалось\", \"сообщать\", \"скр\", \"прокуратура\", \"администрация\", \"мэрия\", \"мэрии\", \"департамент\",\n",
    "             \"пресс-службы\", \"область\", \"журналист\", \"корреспондент\", \"рубль\", \"также\", \"отмечается\", \"день\", \"весь\",\n",
    "             \"регион\", \"тысяча\", \"свой\", \"россия\", \"бюджет\", \"вопрос\", \"рассказывать\", \"время\", \"комитет\",\n",
    "             \"проводить\", \"добавлять\", \"около\", \"решение\", \"редакция\", \"город\", \"улица\", \"месяц\", \"погода\", \"тепло\", \n",
    "             \"который\", \"это\", \"минус\"}\n",
    "\n",
    "STOPWORDS_1 = STOPWORDS.union(word_list)"
   ]
  },
  {
   "cell_type": "code",
   "execution_count": null,
   "id": "03c606e2-da84-43cd-bfa7-cff5ef919cd4",
   "metadata": {},
   "outputs": [],
   "source": [
    "# удаление стоп-слов от федора\n",
    "def remove_stopwords(text):\n",
    "    if pd.isna(text):  # Проверка на NaN\n",
    "        return \"\"\n",
    "    return \" \".join([word for word in text.split() if word not in STOPWORDS_1])\n",
    "\n",
    "df['stop'] = df['lemmas'].apply(remove_stopwords)"
   ]
  },
  {
   "cell_type": "code",
   "execution_count": null,
   "id": "2140eb15-c6a4-46bf-9165-def761a1dfaa",
   "metadata": {},
   "outputs": [],
   "source": [
    "# удаление цифр и пунктуации\n",
    "def clean_text(text):\n",
    "    if pd.isna(text):  # Проверка на NaN\n",
    "        return \"\"\n",
    "    return re.sub(r'[^\\w\\s]+|[\\d]+', '', text)\n",
    "\n",
    "df['stop_num'] = df['stop'].apply(clean_text)"
   ]
  },
  {
   "cell_type": "code",
   "execution_count": null,
   "id": "62aa7545-8817-4d66-9d74-8141a307cc7d",
   "metadata": {},
   "outputs": [],
   "source": [
    "# удаление символа \"r\" в тексте\n",
    "df['stop_num'] = df['stop_num'].str.replace('r', '')"
   ]
  },
  {
   "cell_type": "code",
   "execution_count": null,
   "id": "62b8f7a7-0ee8-459c-891f-7e19ef14b526",
   "metadata": {},
   "outputs": [],
   "source": [
    "# сохранение Mystem\n",
    "df.to_csv(\"RIA_articles_lemmas_2021.csv\", index=False) # если меняете год в парсере, не забудьте менять годы в CSV файлах!\n",
    "print(\"успешно сохранён.\")"
   ]
  },
  {
   "cell_type": "markdown",
   "id": "b7f77513-7006-4f16-b1eb-939e427a699a",
   "metadata": {},
   "source": [
    "## TF-IDF"
   ]
  },
  {
   "cell_type": "code",
   "execution_count": null,
   "id": "f52b42cb-cefb-4808-8d5e-ae8ad220ec9e",
   "metadata": {},
   "outputs": [],
   "source": [
    "# вывод графика\n",
    "%matplotlib inline"
   ]
  },
  {
   "cell_type": "code",
   "execution_count": null,
   "id": "0e65ef2b-223c-4e68-8aac-e892754dde28",
   "metadata": {},
   "outputs": [],
   "source": [
    "# данные\n",
    "df = pd.read_csv(r\"RIA_articles_lemmas_2021.csv\", encoding='UTF-8') # если меняете год в парсере, не забудьте менять годы в CSV файлах!"
   ]
  },
  {
   "cell_type": "code",
   "execution_count": null,
   "id": "f2d29b57-0fb0-43df-a528-385c6df25a01",
   "metadata": {},
   "outputs": [],
   "source": [
    "# Токенизация\n",
    "tokenizer = RegexpTokenizer(r'\\w+')\n",
    "df['text_prep'] = df['stop_num'].apply(lambda x: tokenizer.tokenize(str(x)))"
   ]
  },
  {
   "cell_type": "code",
   "execution_count": null,
   "id": "c4946d1d-54a3-4216-81fc-8aa114606fd7",
   "metadata": {},
   "outputs": [],
   "source": [
    "# единый список\n",
    "all_texts = [word for words_list in df['text_prep'] for word in words_list]\n",
    "\n",
    "# удаление символов 'r' и стоп-слов (Еще раз, на всякий)\n",
    "add_stopwords = {'nan', 'r'}\n",
    "all_texts_cleaned = [word.replace('r', '').strip() for word in all_texts if word not in add_stopwords]\n",
    "\n",
    "# частота слов\n",
    "fdist = FreqDist(all_texts_cleaned)\n",
    "print(fdist.most_common(5))  # Топ-5 самых частотных слов\n",
    "fdist.plot(30, cumulative=False)  # График частотности"
   ]
  },
  {
   "cell_type": "code",
   "execution_count": null,
   "id": "46ee61a0-4747-45fe-b970-368af7db2245",
   "metadata": {},
   "outputs": [],
   "source": [
    "# облако\n",
    "text_raw = \" \".join(all_texts_cleaned)\n",
    "wordcloud = WordCloud().generate(text_raw)\n",
    "plt.imshow(wordcloud, interpolation='bilinear')\n",
    "plt.axis(\"off\")"
   ]
  },
  {
   "cell_type": "code",
   "execution_count": null,
   "id": "1489ed19-1292-46bc-9404-d1b37686ef4c",
   "metadata": {},
   "outputs": [],
   "source": [
    "# вывод облака\n",
    "plt.show()"
   ]
  },
  {
   "cell_type": "code",
   "execution_count": null,
   "id": "2aa4a23f-7906-4c3c-9d7f-ffc676a04f3d",
   "metadata": {},
   "outputs": [],
   "source": [
    "# текст для TF-IDF\n",
    "df['text_prep_str'] = df['text_prep'].apply(lambda x: \" \".join(x))\n",
    "\n",
    "# вычисление TF-IDF\n",
    "tfidf_vectorizer = TfidfVectorizer(use_idf=True)\n",
    "tfidf_matrix = tfidf_vectorizer.fit_transform(df['text_prep_str'])"
   ]
  },
  {
   "cell_type": "code",
   "execution_count": null,
   "id": "153d77eb-e3ce-40f0-ab72-af697be14aa6",
   "metadata": {},
   "outputs": [],
   "source": [
    "# слова и их TF-IDF\n",
    "feature_names = tfidf_vectorizer.get_feature_names_out()\n",
    "tfidf_values = tfidf_matrix.sum(axis=0).A1  # Суммируем значения TF-IDF по всем документам"
   ]
  },
  {
   "cell_type": "code",
   "execution_count": null,
   "id": "018be13e-d0a5-4868-9d98-bdab913312d8",
   "metadata": {},
   "outputs": [],
   "source": [
    "# создание нового csv\n",
    "words_tfidf_df = pd.DataFrame({\n",
    "    \"Слово\": feature_names,\n",
    "    \"TF-IDF\": tfidf_values\n",
    "}).sort_values(by=\"TF-IDF\", ascending=False)"
   ]
  },
  {
   "cell_type": "code",
   "execution_count": null,
   "id": "58ef27a9-0d39-4c95-854b-7ac602eca0ac",
   "metadata": {},
   "outputs": [],
   "source": [
    "# сохранение TF-IDF\n",
    "words_tfidf_df.to_csv(\"RIA_articles_tfidf_2021.csv\", index=False) # если меняете год в парсере, не забудьте менять годы в CSV файлах!\n",
    "print(\"Файл 'RIA_articles_tfidf.csv' успешно сохранён.\")"
   ]
  }
 ],
 "metadata": {
  "kernelspec": {
   "display_name": "Python 3 (ipykernel)",
   "language": "python",
   "name": "python3"
  },
  "language_info": {
   "codemirror_mode": {
    "name": "ipython",
    "version": 3
   },
   "file_extension": ".py",
   "mimetype": "text/x-python",
   "name": "python",
   "nbconvert_exporter": "python",
   "pygments_lexer": "ipython3",
   "version": "3.12.4"
  }
 },
 "nbformat": 4,
 "nbformat_minor": 5
}
